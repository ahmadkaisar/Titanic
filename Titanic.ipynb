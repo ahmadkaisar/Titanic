{
 "cells": [
  {
   "cell_type": "code",
   "execution_count": 9,
   "metadata": {},
   "outputs": [],
   "source": [
    "import math\n",
    "import numpy as np\n",
    "import matplotlib.pyplot as plt\n",
    "import pandas as pd\n",
    "from sklearn.impute import SimpleImputer\n",
    "from sklearn.preprocessing import LabelEncoder\n",
    "from sklearn.ensemble import GradientBoostingClassifier\n",
    "from sklearn.metrics import accuracy_score, mean_squared_error as MSE\n",
    "from sklearn.model_selection import train_test_split"
   ]
  },
  {
   "cell_type": "code",
   "execution_count": 25,
   "metadata": {},
   "outputs": [],
   "source": [
    "train = pd.read_csv('train.csv')\n",
    "test = pd.read_csv('test.csv')\n",
    "\n",
    "impute = SimpleImputer(strategy='most_frequent')\n",
    "enc = LabelEncoder()\n",
    "\n",
    "X = train.drop('Survived', axis=1).drop('Name', axis=1).values[:, 1:]\n",
    "y = train['Survived'].values\n",
    "\n",
    "X = impute.fit_transform(X)\n",
    "for i in range(len(train.columns) - 3):\n",
    "    X[:, i] = enc.fit_transform(X[:, i])\n",
    "    \n",
    "X_train, X_test, y_train, y_test = train_test_split(X, y, test_size=0.3, random_state=int(math.log2(len(train))))"
   ]
  },
  {
   "cell_type": "code",
   "execution_count": 33,
   "metadata": {},
   "outputs": [
    {
     "data": {
      "image/png": "[encoded data removed]",
      "text/plain": [
       "<Figure size 432x288 with 1 Axes>"
      ]
     },
     "metadata": {
      "needs_background": "light"
     },
     "output_type": "display_data"
    },
    {
     "name": "stdout",
     "output_type": "stream",
     "text": [
      "Test set RMSE of sgbr: 0.445\n",
      "Accuracy: 0.802\n"
     ]
    }
   ],
   "source": [
    "sgbr = GradientBoostingClassifier(max_depth=math.log2(len(train.columns) - 3),\n",
    "            learning_rate=0.05,\n",
    "            subsample=0.7,\n",
    "            max_features=0.75,\n",
    "            n_estimators=3000,                                \n",
    "            random_state=int(math.log2(len(train))))\n",
    "\n",
    "# Fit sgbr to the training set\n",
    "sgbr.fit(X_train, y_train)\n",
    "\n",
    "# Create a pd.Series of features importances\n",
    "importances = pd.Series(data=sgbr.feature_importances_,\n",
    "                        index= train.drop('Survived', axis=1).drop('Name', axis=1).columns[1:])\n",
    "\n",
    "# Sort importances\n",
    "importances_sorted = importances.sort_values()\n",
    "\n",
    "# Draw a horizontal barplot of importances_sorted\n",
    "importances_sorted.plot(kind='barh', color='lightgreen')\n",
    "plt.title('Features Importances')\n",
    "plt.show()\n",
    "\n",
    "# Predict test set labels\n",
    "y_pred = sgbr.predict(X_test)\n",
    "\n",
    "# Compute test set MSE\n",
    "mse_test = MSE(y_test, y_pred)\n",
    "\n",
    "accuracy = accuracy_score(y_test, y_pred)\n",
    "\n",
    "# Compute test set RMSE\n",
    "rmse_test = mse_test.mean() ** 0.5\n",
    "\n",
    "# Print rmse_test\n",
    "print('Test set RMSE of sgbr: {:.3f}'.format(rmse_test))\n",
    "print('Accuracy: {:.3f}'.format(accuracy))"
   ]
  },
  {
   "cell_type": "code",
   "execution_count": null,
   "metadata": {},
   "outputs": [],
   "source": [
    "X_submit = test.drop('Name', axis=1).values[:, 1:]\n",
    "\n",
    "X_submit = impute.fit_transform(X_submit)\n",
    "for i in range(len(test.columns) - 2):\n",
    "    X_submit[:, i] = enc.fit_transform(X_submit[:, i])\n",
    "    \n",
    "y_predict = np.abs(sgbr.predict(X_submit).round()).astype('int64')\n",
    "df_predict = pd.DataFrame({'PassengerId':test.iloc[:, 0].values, 'Survived':y_predict})\n",
    "df_predict = df_predict.set_index('PassengerId')\n",
    "df_predict.to_csv('result.csv')\n",
    "print(df_predict)"
   ]
  }
 ],
 "metadata": {
  "kernelspec": {
   "display_name": "Python 3",
   "language": "python",
   "name": "python3"
  },
  "language_info": {
   "codemirror_mode": {
    "name": "ipython",
    "version": 3
   },
   "file_extension": ".py",
   "mimetype": "text/x-python",
   "name": "python",
   "nbconvert_exporter": "python",
   "pygments_lexer": "ipython3",
   "version": "3.6.9"
  }
 },
 "nbformat": 4,
 "nbformat_minor": 4
}
