{
 "cells": [
  {
   "cell_type": "code",
   "execution_count": 100,
   "metadata": {},
   "outputs": [],
   "source": [
    "import matplotlib.pyplot as plt\n",
    "import numpy as np\n",
    "import pandas as pd\n",
    "from sklearn.impute import SimpleImputer\n",
    "from sklearn.model_selection import train_test_split\n",
    "from sklearn.preprocessing import LabelEncoder \n",
    "from sklearn.tree import DecisionTreeClassifier, plot_tree\n",
    "from xgboost import XGBRFClassifier"
   ]
  },
  {
   "cell_type": "code",
   "execution_count": 122,
   "metadata": {},
   "outputs": [],
   "source": [
    "passenger_train = pd.read_csv('train.csv')\n",
    "passenger_test = pd.read_csv('test.csv')\n",
    "\n",
    "unused_columns = ['Survived', 'PassengerId', 'Name', 'Ticket', 'Cabin', 'Embarked', 'Parch']\n",
    "\n",
    "imp = SimpleImputer(strategy='most_frequent')\n",
    "for col in passenger_train.columns:\n",
    "    imp.fit(passenger_train[[col]])\n",
    "    passenger_train[[col]] = imp.transform(passenger_train[[col]])\n",
    "    if col in passenger_test.columns:\n",
    "        passenger_test[[col]] = imp.transform(passenger_test[[col]])\n",
    "\n",
    "X_ptr = passenger_train[[col for col in passenger_train.columns if col not in unused_columns]].values\n",
    "X_pts = passenger_test[[col for col in passenger_test.columns if col not in unused_columns]].values\n",
    "y_ptr = passenger_train['Survived'].values\n",
    "\n",
    "X_ptr = X_ptr.transpose()\n",
    "X_pts = X_pts.transpose()\n",
    "\n",
    "str_col = [i for i in range(len(X_ptr)) if type(X_ptr[i][0]) == str]\n",
    "\n",
    "enc = LabelEncoder()\n",
    "for col in str_col:\n",
    "    enc.fit(X_ptr[col])\n",
    "    X_ptr[col] = enc.transform(X_ptr[col])\n",
    "    \n",
    "for col in str_col:\n",
    "    enc.fit(X_pts[col])\n",
    "    X_pts[col] = enc.transform(X_pts[col])\n",
    "\n",
    "X_ptr = X_ptr.transpose()\n",
    "X_pts = X_pts.transpose()"
   ]
  },
  {
   "cell_type": "code",
   "execution_count": 123,
   "metadata": {},
   "outputs": [],
   "source": [
    "X_train, X_test, y_train, y_test = train_test_split(X_ptr, y_ptr, test_size=0.3, random_state=2)"
   ]
  },
  {
   "cell_type": "code",
   "execution_count": 124,
   "metadata": {},
   "outputs": [
    {
     "data": {
      "image/png": "[encoded data removed]",
      "text/plain": [
       "<Figure size 432x288 with 1 Axes>"
      ]
     },
     "metadata": {
      "needs_background": "light"
     },
     "output_type": "display_data"
    },
    {
     "name": "stdout",
     "output_type": "stream",
     "text": [
      "0.8059701492537313\n"
     ]
    }
   ],
   "source": [
    "dtc = DecisionTreeClassifier()\n",
    "dtc.fit(X_train, y_train)\n",
    "\n",
    "# Draw tree segment\n",
    "# plot_tree(dtc)\n",
    "# plt.show()\n",
    "\n",
    "# Create a pd.Series of features importances\n",
    "importances = pd.Series(data=dtc.feature_importances_,\n",
    "                        index=[col for col in passenger_train.columns if col not in unused_columns])\n",
    "\n",
    "# Sort importances\n",
    "importances_sorted = importances.sort_values()\n",
    "\n",
    "# Draw a horizontal barplot of importances_sorted\n",
    "importances_sorted.plot(kind='barh', color='lightgreen')\n",
    "plt.title('Features Importances')\n",
    "plt.show()\n",
    "\n",
    "y_pred = dtc.predict(X_test)\n",
    "percent = len([i for i in range(len(y_test)) if y_test[i] != y_pred[i]]) / len(y_test)\n",
    "print(1 - percent)"
   ]
  },
  {
   "cell_type": "code",
   "execution_count": 131,
   "metadata": {},
   "outputs": [
    {
     "data": {
      "image/png": "[encoded data removed]",
      "text/plain": [
       "<Figure size 432x288 with 1 Axes>"
      ]
     },
     "metadata": {
      "needs_background": "light"
     },
     "output_type": "display_data"
    },
    {
     "name": "stdout",
     "output_type": "stream",
     "text": [
      "0.8097014925373134\n"
     ]
    }
   ],
   "source": [
    "xgbrfc = XGBRFClassifier(learning_rate=0.00025)\n",
    "xgbrfc.fit(X_train, y_train)\n",
    "\n",
    "# Draw tree segment\n",
    "# plot_tree(xgbrfc)\n",
    "# plt.show()\n",
    "\n",
    "# Create a pd.Series of features importances\n",
    "importances = pd.Series(data=xgbrfc.feature_importances_,\n",
    "                        index=[col for col in passenger_train.columns if col not in unused_columns])\n",
    "\n",
    "# Sort importances\n",
    "importances_sorted = importances.sort_values()\n",
    "\n",
    "# Draw a horizontal barplot of importances_sorted\n",
    "importances_sorted.plot(kind='barh', color='lightgreen')\n",
    "plt.title('Features Importances')\n",
    "plt.show()\n",
    "\n",
    "y_pred = xgbrfc.predict(X_test)\n",
    "percent = len([i for i in range(len(y_test)) if y_test[i] != y_pred[i]]) / len(y_test)\n",
    "print(1 - percent)"
   ]
  },
  {
   "cell_type": "code",
   "execution_count": 142,
   "metadata": {},
   "outputs": [],
   "source": [
    "y_submit = xgbrfc.predict(X_pts)\n",
    "\n",
    "df = pd.DataFrame({'PassengerId':passenger_test['PassengerId'].values, 'Survived':y_submit})\n",
    "df = df.set_index('PassengerId')\n",
    "df.to_csv('result.csv')"
   ]
  }
 ],
 "metadata": {
  "kernelspec": {
   "display_name": "Python 3",
   "language": "python",
   "name": "python3"
  },
  "language_info": {
   "codemirror_mode": {
    "name": "ipython",
    "version": 3
   },
   "file_extension": ".py",
   "mimetype": "text/x-python",
   "name": "python",
   "nbconvert_exporter": "python",
   "pygments_lexer": "ipython3",
   "version": "3.6.9"
  }
 },
 "nbformat": 4,
 "nbformat_minor": 4
}
